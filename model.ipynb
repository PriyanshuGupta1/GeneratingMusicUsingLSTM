{
  "cells": [
    {
      "cell_type": "code",
      "execution_count": null,
      "metadata": {
        "colab": {
          "base_uri": "https://localhost:8080/"
        },
        "id": "a95XvXFhYgFh",
        "outputId": "66dccccb-83c0-4f90-c5ea-4ae97ac6a666"
      },
      "outputs": [
        {
          "output_type": "stream",
          "name": "stdout",
          "text": [
            "Collecting preprocessing\n",
            "  Downloading preprocessing-0.1.13-py3-none-any.whl (349 kB)\n",
            "\u001b[K     |████████████████████████████████| 349 kB 25.9 MB/s \n",
            "\u001b[?25hCollecting nltk==3.2.4\n",
            "  Downloading nltk-3.2.4.tar.gz (1.2 MB)\n",
            "\u001b[K     |████████████████████████████████| 1.2 MB 51.2 MB/s \n",
            "\u001b[?25hCollecting sphinx-rtd-theme==0.2.4\n",
            "  Downloading sphinx_rtd_theme-0.2.4-py2.py3-none-any.whl (1.4 MB)\n",
            "\u001b[K     |████████████████████████████████| 1.4 MB 55.2 MB/s \n",
            "\u001b[?25hRequirement already satisfied: six in /usr/local/lib/python3.7/dist-packages (from nltk==3.2.4->preprocessing) (1.15.0)\n",
            "Building wheels for collected packages: nltk\n",
            "  Building wheel for nltk (setup.py) ... \u001b[?25l\u001b[?25hdone\n",
            "  Created wheel for nltk: filename=nltk-3.2.4-py3-none-any.whl size=1367723 sha256=9a102735e9f88a1586ba9ca73bd7665481b5abafb5dc2c6fca227a7243c14ee4\n",
            "  Stored in directory: /root/.cache/pip/wheels/90/5e/9e/4cb46185f2a16c60e6fc524372ba7fef89ce3347734c8798b6\n",
            "Successfully built nltk\n",
            "Installing collected packages: sphinx-rtd-theme, nltk, preprocessing\n",
            "  Attempting uninstall: nltk\n",
            "    Found existing installation: nltk 3.2.5\n",
            "    Uninstalling nltk-3.2.5:\n",
            "      Successfully uninstalled nltk-3.2.5\n",
            "Successfully installed nltk-3.2.4 preprocessing-0.1.13 sphinx-rtd-theme-0.2.4\n"
          ]
        }
      ],
      "source": [
        "pip install preprocessing"
      ]
    },
    {
      "cell_type": "code",
      "execution_count": null,
      "metadata": {
        "colab": {
          "base_uri": "https://localhost:8080/"
        },
        "id": "sk5_p1p5X-oC",
        "outputId": "258d1203-17b3-44c9-da25-da4c85f6898e"
      },
      "outputs": [
        {
          "output_type": "stream",
          "name": "stdout",
          "text": [
            "Mounted at /content/drive\n"
          ]
        }
      ],
      "source": [
        "from google.colab import drive\n",
        "from pathlib import Path\n",
        "drive.mount(\"/content/drive\", force_remount=True)"
      ]
    },
    {
      "cell_type": "code",
      "execution_count": null,
      "metadata": {
        "id": "KPC6RjwZYFlR"
      },
      "outputs": [],
      "source": [
        "import sys\n",
        "from preprocessing import *\n",
        "base = Path('/content/drive/MyDrive/Project')\n",
        "sys.path.append(str(base))"
      ]
    },
    {
      "cell_type": "code",
      "execution_count": null,
      "metadata": {
        "colab": {
          "base_uri": "https://localhost:8080/",
          "height": 1000
        },
        "id": "6pZuRh04XIiR",
        "outputId": "1ece4519-e182-49f4-fe80-82d6b6628c42"
      },
      "outputs": [
        {
          "output_type": "stream",
          "name": "stdout",
          "text": [
            "Model: \"model_2\"\n",
            "_________________________________________________________________\n",
            " Layer (type)                Output Shape              Param #   \n",
            "=================================================================\n",
            " input_3 (InputLayer)        [(None, None, 38)]        0         \n",
            "                                                                 \n",
            " simple_rnn_2 (SimpleRNN)    (None, 256)               75520     \n",
            "                                                                 \n",
            " dropout_2 (Dropout)         (None, 256)               0         \n",
            "                                                                 \n",
            " dense_2 (Dense)             (None, 38)                9766      \n",
            "                                                                 \n",
            "=================================================================\n",
            "Total params: 85,286\n",
            "Trainable params: 85,286\n",
            "Non-trainable params: 0\n",
            "_________________________________________________________________\n",
            "Epoch 1/2\n"
          ]
        },
        {
          "output_type": "stream",
          "name": "stderr",
          "text": [
            "/usr/local/lib/python3.7/dist-packages/keras/optimizer_v2/adam.py:105: UserWarning: The `lr` argument is deprecated, use `learning_rate` instead.\n",
            "  super(Adam, self).__init__(name, **kwargs)\n"
          ]
        },
        {
          "output_type": "stream",
          "name": "stdout",
          "text": [
            "3800/3800 [==============================] - 380s 100ms/step - loss: 0.7922 - accuracy: 0.7771 - val_loss: 0.8372 - val_accuracy: 0.7627\n",
            "Epoch 2/2\n",
            "3800/3800 [==============================] - 374s 98ms/step - loss: 0.7504 - accuracy: 0.7762 - val_loss: 0.7543 - val_accuracy: 0.7702\n",
            "dict_keys(['loss', 'accuracy', 'val_loss', 'val_accuracy'])\n"
          ]
        },
        {
          "output_type": "display_data",
          "data": {
            "text/plain": [
              "<Figure size 432x288 with 1 Axes>"
            ],
            "image/png": "[encoded data removed]"
          },
          "metadata": {
            "needs_background": "light"
          }
        },
        {
          "output_type": "display_data",
          "data": {
            "text/plain": [
              "<Figure size 432x288 with 1 Axes>"
            ],
            "image/png": "[encoded data removed]"
          },
          "metadata": {
            "needs_background": "light"
          }
        }
      ],
      "source": [
        "import json\n",
        "import tensorflow.keras as keras\n",
        "from keras.applications.densenet import layers\n",
        "import numpy as np\n",
        "import matplotlib.pyplot as plt\n",
        "from keras.utils.vis_utils import plot_model\n",
        "\n",
        "mapping_path=\"/content/drive/MyDrive/Project/mapping.json\"\n",
        "sequence_length=64\n",
        "single_file_dataset = \"/content/drive/MyDrive/Project/file_dataset\" \n",
        "LOSS = \"sparse_categorical_crossentropy\"    # error function for training\n",
        "LEARNING_RATE = 0.001\n",
        "EPOCHS = 2 # three seperate values # 2 10 20\n",
        "NUM_UNITS = [256]   #number of units of neuron in internal layer of network this is one layer with 256 neurons # three seperate values # 64 128\n",
        "BATCH_SIZE = 64     # amount of samples it will see before running back propogation  # 16 32 \n",
        "save_model_path = \"model4.h5\"   # .h5 for saving keras model\n",
        "\n",
        "\n",
        "def convert_songs_to_int(songs):\n",
        "    # covert song in symbolic representaition to integer into sequences so that we can train our LSTM model\n",
        "    # takes input as songs which is string of integer\n",
        "    int_songs = []\n",
        "    # store all dataset and mapping\n",
        "    # load the mappings\n",
        "    with open(mapping_path, \"r\") as fp:\n",
        "        mappings = json.load(fp)\n",
        "        # dictionary which contain all our symbols\n",
        "\n",
        "    # cast songs string to list\n",
        "    songs = songs.split()\n",
        "    # splits a string at empty spaces and create items in list\n",
        "\n",
        "    # map song to int\n",
        "    for symbol in songs:\n",
        "        int_songs.append(mappings[symbol])\n",
        "    #print(int_songs)\n",
        "    return int_songs\n",
        "\n",
        "def load(file_path):\n",
        "    with open(file_path, \"r\") as fp:\n",
        "        song = fp.read()\n",
        "    return song\n",
        "\n",
        "def generating_training_sequences(sequence_length):\n",
        "    # load the songs and map to int\n",
        "    songs = load(single_file_dataset)\n",
        "    #print(songs)\n",
        "    int_songs = convert_songs_to_int(songs)\n",
        "    # genearte the training sequence\n",
        "    num_sequences=len(int_songs)-sequence_length\n",
        "    input=[]\n",
        "    target=[]\n",
        "    for i in range(num_sequences):\n",
        "        input.append(int_songs[i:i+sequence_length])\n",
        "        target.append(int_songs[i+sequence_length])\n",
        "    # one-hot encode the sequences\n",
        "    # inputs: (# of sequences ,sequence length,vocabulary length)\n",
        "    # easiest way to work with categorical data for neural network\n",
        "    vocabulary_size=len(set(int_songs))\n",
        "    inputs = keras.utils.to_categorical(input, num_classes=vocabulary_size)\n",
        "    # input will now be a 3D array\n",
        "    targets=np.array(target)\n",
        "    return inputs,targets\n",
        "\n",
        "\n",
        "def output_units_(mapping_path):\n",
        "    with open(mapping_path, \"r\") as fp:\n",
        "        mappings = json.load(fp)\n",
        "    return len(mappings.keys())\n",
        "\n",
        "\n",
        "def build_model(output_units, num_units, loss, learning_rate):\n",
        "    # create model architecture\n",
        "    input = keras.layers.Input(shape=(None, output_units))\n",
        "    # shape is of the data which we will input in our model\n",
        "    # None enables us to have as many timestamps as we want ,we than can generate however melodies we want\n",
        "    # output_units tells us how many elements we have for each timestamp i.e our vocabulary size\n",
        "    #x = keras.layers.LSTM(num_units[0])(input)\n",
        "    # for LSTM\n",
        "    #x = keras.layers.GRU(num_units[0])(input) #for GRU\n",
        "    x = keras.layers.SimpleRNN(num_units[0])(input) #for RNN\n",
        "    # add another node to graph\n",
        "\n",
        "    x = keras.layers.Dropout(0.2)(x)\n",
        "    # to avoid overfitting we use dropout layer\n",
        "    # here the rate refers to amount of input data to be dropped\n",
        "    output = keras.layers.Dense(output_units, activation=\"softmax\")(x)\n",
        "\n",
        "    model = keras.Model(input, output)\n",
        "\n",
        "    # compile model\n",
        "\n",
        "    model.compile(loss=loss, optimizer=keras.optimizers.Adam(lr=learning_rate), metrics=[\"accuracy\"])\n",
        "    model.summary()\n",
        "    # print some information about all the model\n",
        "    return model\n",
        "\n",
        "\n",
        "def train(output_units=output_units_(mapping_path), num_units=NUM_UNITS, loss=LOSS, learning_rate=LEARNING_RATE):\n",
        "    # it will do all the functions that will train our dataset\n",
        "    # generate training sequences\n",
        "    # it is already created in preprocess.py\n",
        "\n",
        "    input, target = generating_training_sequences(sequence_length)\n",
        "    # build the network\n",
        "\n",
        "    model = build_model(output_units, num_units, loss, learning_rate)\n",
        "    # output units i.e how many neurons are there in output layer\n",
        "    history=model.fit(input, target,validation_split=0.33, epochs=EPOCHS, batch_size=BATCH_SIZE)\n",
        "    print(history.history.keys())\n",
        "    # summarize history for accuracy\n",
        "    plt.plot(history.history['accuracy'])\n",
        "    plt.plot(history.history['val_accuracy'])\n",
        "    plt.title('model accuracy')\n",
        "    plt.ylabel('accuracy')\n",
        "    plt.xlabel('epoch')\n",
        "    plt.legend(['train', 'test'], loc='upper left')\n",
        "    plt.show()\n",
        "    plt.plot(history.history['loss'])\n",
        "    plt.plot(history.history['val_loss'])\n",
        "    plt.title('model loss')\n",
        "    plt.ylabel('loss')\n",
        "    plt.xlabel('epoch')\n",
        "    plt.legend(['train', 'test'], loc='upper left')\n",
        "    plt.show()\n",
        "    # save the model for future uses\n",
        "    model.save(save_model_path)\n",
        "    plot_model(model, to_file='model_plot.png', show_shapes=True, show_layer_names=True)\n",
        "\n",
        "train()"
      ]
    },
    {
      "cell_type": "code",
      "execution_count": null,
      "metadata": {
        "id": "2AtjfIz_X9lR"
      },
      "outputs": [],
      "source": [
        ""
      ]
    }
  ],
  "metadata": {
    "accelerator": "GPU",
    "colab": {
      "name": "model.ipynb",
      "provenance": [],
      "collapsed_sections": []
    },
    "kernelspec": {
      "display_name": "Python 3",
      "name": "python3"
    },
    "language_info": {
      "name": "python"
    }
  },
  "nbformat": 4,
  "nbformat_minor": 0
}