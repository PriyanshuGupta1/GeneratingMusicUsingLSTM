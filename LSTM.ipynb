{
  "nbformat": 4,
  "nbformat_minor": 0,
  "metadata": {
    "colab": {
      "name": "Copy of 50epoc.ipynb",
      "provenance": []
    },
    "kernelspec": {
      "name": "python3",
      "display_name": "Python 3"
    },
    "language_info": {
      "name": "python"
    },
    "accelerator": "GPU"
  },
  "cells": [
    {
      "cell_type": "code",
      "source": [
        "pip install preprocessing"
      ],
      "metadata": {
        "colab": {
          "base_uri": "https://localhost:8080/"
        },
        "id": "a95XvXFhYgFh",
        "outputId": "d8d62401-4d58-4a1d-cccc-12e0f86a5bac"
      },
      "execution_count": null,
      "outputs": [
        {
          "output_type": "stream",
          "name": "stdout",
          "text": [
            "Collecting preprocessing\n",
            "  Downloading preprocessing-0.1.13-py3-none-any.whl (349 kB)\n",
            "\u001b[?25l\r\u001b[K     |█                               | 10 kB 25.7 MB/s eta 0:00:01\r\u001b[K     |█▉                              | 20 kB 25.9 MB/s eta 0:00:01\r\u001b[K     |██▉                             | 30 kB 29.2 MB/s eta 0:00:01\r\u001b[K     |███▊                            | 40 kB 32.0 MB/s eta 0:00:01\r\u001b[K     |████▊                           | 51 kB 13.9 MB/s eta 0:00:01\r\u001b[K     |█████▋                          | 61 kB 15.7 MB/s eta 0:00:01\r\u001b[K     |██████▋                         | 71 kB 17.2 MB/s eta 0:00:01\r\u001b[K     |███████▌                        | 81 kB 17.5 MB/s eta 0:00:01\r\u001b[K     |████████▍                       | 92 kB 18.5 MB/s eta 0:00:01\r\u001b[K     |█████████▍                      | 102 kB 19.6 MB/s eta 0:00:01\r\u001b[K     |██████████▎                     | 112 kB 19.6 MB/s eta 0:00:01\r\u001b[K     |███████████▎                    | 122 kB 19.6 MB/s eta 0:00:01\r\u001b[K     |████████████▏                   | 133 kB 19.6 MB/s eta 0:00:01\r\u001b[K     |█████████████▏                  | 143 kB 19.6 MB/s eta 0:00:01\r\u001b[K     |██████████████                  | 153 kB 19.6 MB/s eta 0:00:01\r\u001b[K     |███████████████                 | 163 kB 19.6 MB/s eta 0:00:01\r\u001b[K     |████████████████                | 174 kB 19.6 MB/s eta 0:00:01\r\u001b[K     |████████████████▉               | 184 kB 19.6 MB/s eta 0:00:01\r\u001b[K     |█████████████████▉              | 194 kB 19.6 MB/s eta 0:00:01\r\u001b[K     |██████████████████▊             | 204 kB 19.6 MB/s eta 0:00:01\r\u001b[K     |███████████████████▊            | 215 kB 19.6 MB/s eta 0:00:01\r\u001b[K     |████████████████████▋           | 225 kB 19.6 MB/s eta 0:00:01\r\u001b[K     |█████████████████████▋          | 235 kB 19.6 MB/s eta 0:00:01\r\u001b[K     |██████████████████████▌         | 245 kB 19.6 MB/s eta 0:00:01\r\u001b[K     |███████████████████████▍        | 256 kB 19.6 MB/s eta 0:00:01\r\u001b[K     |████████████████████████▍       | 266 kB 19.6 MB/s eta 0:00:01\r\u001b[K     |█████████████████████████▎      | 276 kB 19.6 MB/s eta 0:00:01\r\u001b[K     |██████████████████████████▎     | 286 kB 19.6 MB/s eta 0:00:01\r\u001b[K     |███████████████████████████▏    | 296 kB 19.6 MB/s eta 0:00:01\r\u001b[K     |████████████████████████████▏   | 307 kB 19.6 MB/s eta 0:00:01\r\u001b[K     |█████████████████████████████   | 317 kB 19.6 MB/s eta 0:00:01\r\u001b[K     |██████████████████████████████  | 327 kB 19.6 MB/s eta 0:00:01\r\u001b[K     |███████████████████████████████ | 337 kB 19.6 MB/s eta 0:00:01\r\u001b[K     |███████████████████████████████▉| 348 kB 19.6 MB/s eta 0:00:01\r\u001b[K     |████████████████████████████████| 349 kB 19.6 MB/s \n",
            "\u001b[?25hCollecting sphinx-rtd-theme==0.2.4\n",
            "  Downloading sphinx_rtd_theme-0.2.4-py2.py3-none-any.whl (1.4 MB)\n",
            "\u001b[K     |████████████████████████████████| 1.4 MB 63.8 MB/s \n",
            "\u001b[?25hCollecting nltk==3.2.4\n",
            "  Downloading nltk-3.2.4.tar.gz (1.2 MB)\n",
            "\u001b[K     |████████████████████████████████| 1.2 MB 66.3 MB/s \n",
            "\u001b[?25hRequirement already satisfied: six in /usr/local/lib/python3.7/dist-packages (from nltk==3.2.4->preprocessing) (1.15.0)\n",
            "Building wheels for collected packages: nltk\n",
            "  Building wheel for nltk (setup.py) ... \u001b[?25l\u001b[?25hdone\n",
            "  Created wheel for nltk: filename=nltk-3.2.4-py3-none-any.whl size=1367721 sha256=ff84a541092ec93c772174fcd87539dd2c9c1e41a7d6af22b80b5f3b0c7bf335\n",
            "  Stored in directory: /root/.cache/pip/wheels/90/5e/9e/4cb46185f2a16c60e6fc524372ba7fef89ce3347734c8798b6\n",
            "Successfully built nltk\n",
            "Installing collected packages: sphinx-rtd-theme, nltk, preprocessing\n",
            "  Attempting uninstall: nltk\n",
            "    Found existing installation: nltk 3.2.5\n",
            "    Uninstalling nltk-3.2.5:\n",
            "      Successfully uninstalled nltk-3.2.5\n",
            "Successfully installed nltk-3.2.4 preprocessing-0.1.13 sphinx-rtd-theme-0.2.4\n"
          ]
        }
      ]
    },
    {
      "cell_type": "code",
      "source": [
        "from google.colab import drive\n",
        "from pathlib import Path\n",
        "drive.mount(\"/content/drive\", force_remount=True)"
      ],
      "metadata": {
        "colab": {
          "base_uri": "https://localhost:8080/"
        },
        "id": "sk5_p1p5X-oC",
        "outputId": "39585acd-4fc2-4303-e024-a97703b9b080"
      },
      "execution_count": null,
      "outputs": [
        {
          "output_type": "stream",
          "name": "stdout",
          "text": [
            "Mounted at /content/drive\n"
          ]
        }
      ]
    },
    {
      "cell_type": "code",
      "source": [
        "import sys\n",
        "from preprocessing import *\n",
        "base = Path('/content/drive/MyDrive/Project')\n",
        "sys.path.append(str(base))"
      ],
      "metadata": {
        "id": "KPC6RjwZYFlR"
      },
      "execution_count": null,
      "outputs": []
    },
    {
      "cell_type": "code",
      "execution_count": null,
      "metadata": {
        "colab": {
          "base_uri": "https://localhost:8080/",
          "height": 1000
        },
        "id": "6pZuRh04XIiR",
        "outputId": "ecfb8f06-896f-45f5-f56a-e9efe6754c82"
      },
      "outputs": [
        {
          "output_type": "stream",
          "name": "stdout",
          "text": [
            "Model: \"model\"\n",
            "_________________________________________________________________\n",
            " Layer (type)                Output Shape              Param #   \n",
            "=================================================================\n",
            " input_1 (InputLayer)        [(None, None, 38)]        0         \n",
            "                                                                 \n",
            " lstm (LSTM)                 (None, 256)               302080    \n",
            "                                                                 \n",
            " dropout (Dropout)           (None, 256)               0         \n",
            "                                                                 \n",
            " dense (Dense)               (None, 38)                9766      \n",
            "                                                                 \n",
            "=================================================================\n",
            "Total params: 311,846\n",
            "Trainable params: 311,846\n",
            "Non-trainable params: 0\n",
            "_________________________________________________________________\n"
          ]
        },
        {
          "output_type": "stream",
          "name": "stderr",
          "text": [
            "/usr/local/lib/python3.7/dist-packages/keras/optimizer_v2/adam.py:105: UserWarning: The `lr` argument is deprecated, use `learning_rate` instead.\n",
            "  super(Adam, self).__init__(name, **kwargs)\n"
          ]
        },
        {
          "output_type": "stream",
          "name": "stdout",
          "text": [
            "Epoch 1/50\n",
            "3794/3794 [==============================] - 39s 9ms/step - loss: 0.7301 - accuracy: 0.7820 - val_loss: 0.6456 - val_accuracy: 0.7912\n",
            "Epoch 2/50\n",
            "3794/3794 [==============================] - 37s 10ms/step - loss: 0.6118 - accuracy: 0.8015 - val_loss: 0.6219 - val_accuracy: 0.7985\n",
            "Epoch 3/50\n",
            "3794/3794 [==============================] - 33s 9ms/step - loss: 0.5820 - accuracy: 0.8110 - val_loss: 0.5957 - val_accuracy: 0.8082\n",
            "Epoch 4/50\n",
            "3794/3794 [==============================] - 33s 9ms/step - loss: 0.5485 - accuracy: 0.8228 - val_loss: 0.5721 - val_accuracy: 0.8167\n",
            "Epoch 5/50\n",
            "3794/3794 [==============================] - 37s 10ms/step - loss: 0.5251 - accuracy: 0.8303 - val_loss: 0.5549 - val_accuracy: 0.8212\n",
            "Epoch 6/50\n",
            "3794/3794 [==============================] - 33s 9ms/step - loss: 0.5090 - accuracy: 0.8353 - val_loss: 0.5456 - val_accuracy: 0.8251\n",
            "Epoch 7/50\n",
            "3794/3794 [==============================] - 37s 10ms/step - loss: 0.4879 - accuracy: 0.8411 - val_loss: 0.5422 - val_accuracy: 0.8275\n",
            "Epoch 8/50\n",
            "3794/3794 [==============================] - 37s 10ms/step - loss: 0.4712 - accuracy: 0.8458 - val_loss: 0.5383 - val_accuracy: 0.8287\n",
            "Epoch 9/50\n",
            "3794/3794 [==============================] - 37s 10ms/step - loss: 0.4555 - accuracy: 0.8510 - val_loss: 0.5375 - val_accuracy: 0.8292\n",
            "Epoch 10/50\n",
            "3794/3794 [==============================] - 37s 10ms/step - loss: 0.4401 - accuracy: 0.8552 - val_loss: 0.5388 - val_accuracy: 0.8289\n",
            "Epoch 11/50\n",
            "3794/3794 [==============================] - 33s 9ms/step - loss: 0.4268 - accuracy: 0.8592 - val_loss: 0.5424 - val_accuracy: 0.8292\n",
            "Epoch 12/50\n",
            "3794/3794 [==============================] - 33s 9ms/step - loss: 0.4102 - accuracy: 0.8641 - val_loss: 0.5479 - val_accuracy: 0.8287\n",
            "Epoch 13/50\n",
            "3794/3794 [==============================] - 33s 9ms/step - loss: 0.3973 - accuracy: 0.8679 - val_loss: 0.5547 - val_accuracy: 0.8260\n",
            "Epoch 14/50\n",
            "3794/3794 [==============================] - 37s 10ms/step - loss: 0.3852 - accuracy: 0.8719 - val_loss: 0.5589 - val_accuracy: 0.8263\n",
            "Epoch 15/50\n",
            "3794/3794 [==============================] - 33s 9ms/step - loss: 0.3697 - accuracy: 0.8768 - val_loss: 0.5717 - val_accuracy: 0.8273\n",
            "Epoch 16/50\n",
            "3794/3794 [==============================] - 37s 10ms/step - loss: 0.3570 - accuracy: 0.8805 - val_loss: 0.5791 - val_accuracy: 0.8265\n",
            "Epoch 17/50\n",
            "3794/3794 [==============================] - 37s 10ms/step - loss: 0.3489 - accuracy: 0.8831 - val_loss: 0.5864 - val_accuracy: 0.8247\n",
            "Epoch 18/50\n",
            "3794/3794 [==============================] - 33s 9ms/step - loss: 0.3422 - accuracy: 0.8853 - val_loss: 0.5903 - val_accuracy: 0.8249\n",
            "Epoch 19/50\n",
            "3794/3794 [==============================] - 33s 9ms/step - loss: 0.3316 - accuracy: 0.8890 - val_loss: 0.5997 - val_accuracy: 0.8253\n",
            "Epoch 20/50\n",
            "3794/3794 [==============================] - 33s 9ms/step - loss: 0.3237 - accuracy: 0.8914 - val_loss: 0.6092 - val_accuracy: 0.8239\n",
            "Epoch 21/50\n",
            "3794/3794 [==============================] - 33s 9ms/step - loss: 0.3157 - accuracy: 0.8939 - val_loss: 0.6122 - val_accuracy: 0.8227\n",
            "Epoch 22/50\n",
            "3794/3794 [==============================] - 33s 9ms/step - loss: 0.3075 - accuracy: 0.8963 - val_loss: 0.6239 - val_accuracy: 0.8227\n",
            "Epoch 23/50\n",
            "3794/3794 [==============================] - 33s 9ms/step - loss: 0.3012 - accuracy: 0.8979 - val_loss: 0.6388 - val_accuracy: 0.8223\n",
            "Epoch 24/50\n",
            "3794/3794 [==============================] - 37s 10ms/step - loss: 0.2957 - accuracy: 0.9000 - val_loss: 0.6436 - val_accuracy: 0.8206\n",
            "Epoch 25/50\n",
            "3794/3794 [==============================] - 33s 9ms/step - loss: 0.2923 - accuracy: 0.9005 - val_loss: 0.6463 - val_accuracy: 0.8221\n",
            "Epoch 26/50\n",
            "3794/3794 [==============================] - 33s 9ms/step - loss: 0.2789 - accuracy: 0.9053 - val_loss: 0.6562 - val_accuracy: 0.8217\n",
            "Epoch 27/50\n",
            "3794/3794 [==============================] - 33s 9ms/step - loss: 0.2765 - accuracy: 0.9065 - val_loss: 0.6651 - val_accuracy: 0.8196\n",
            "Epoch 28/50\n",
            "3794/3794 [==============================] - 33s 9ms/step - loss: 0.2736 - accuracy: 0.9074 - val_loss: 0.6630 - val_accuracy: 0.8203\n",
            "Epoch 29/50\n",
            "3794/3794 [==============================] - 33s 9ms/step - loss: 0.2656 - accuracy: 0.9097 - val_loss: 0.6820 - val_accuracy: 0.8202\n",
            "Epoch 30/50\n",
            "3794/3794 [==============================] - 33s 9ms/step - loss: 0.2608 - accuracy: 0.9111 - val_loss: 0.6892 - val_accuracy: 0.8192\n",
            "Epoch 31/50\n",
            "3794/3794 [==============================] - 33s 9ms/step - loss: 0.2605 - accuracy: 0.9119 - val_loss: 0.6895 - val_accuracy: 0.8203\n",
            "Epoch 32/50\n",
            "3794/3794 [==============================] - 37s 10ms/step - loss: 0.2535 - accuracy: 0.9135 - val_loss: 0.6936 - val_accuracy: 0.8197\n",
            "Epoch 33/50\n",
            "3794/3794 [==============================] - 33s 9ms/step - loss: 0.2515 - accuracy: 0.9141 - val_loss: 0.6988 - val_accuracy: 0.8200\n",
            "Epoch 34/50\n",
            "3794/3794 [==============================] - 33s 9ms/step - loss: 0.2473 - accuracy: 0.9153 - val_loss: 0.7153 - val_accuracy: 0.8184\n",
            "Epoch 35/50\n",
            "3794/3794 [==============================] - 37s 10ms/step - loss: 0.2513 - accuracy: 0.9141 - val_loss: 0.7068 - val_accuracy: 0.8188\n",
            "Epoch 36/50\n",
            "3794/3794 [==============================] - 33s 9ms/step - loss: 0.2410 - accuracy: 0.9176 - val_loss: 0.7168 - val_accuracy: 0.8197\n",
            "Epoch 37/50\n",
            "3794/3794 [==============================] - 33s 9ms/step - loss: 0.2385 - accuracy: 0.9188 - val_loss: 0.7186 - val_accuracy: 0.8179\n",
            "Epoch 38/50\n",
            "3794/3794 [==============================] - 33s 9ms/step - loss: 0.2336 - accuracy: 0.9200 - val_loss: 0.7284 - val_accuracy: 0.8179\n",
            "Epoch 39/50\n",
            "3794/3794 [==============================] - 37s 10ms/step - loss: 0.2328 - accuracy: 0.9198 - val_loss: 0.7282 - val_accuracy: 0.8185\n",
            "Epoch 40/50\n",
            "3794/3794 [==============================] - 33s 9ms/step - loss: 0.2292 - accuracy: 0.9213 - val_loss: 0.7390 - val_accuracy: 0.8196\n",
            "Epoch 41/50\n",
            "3794/3794 [==============================] - 33s 9ms/step - loss: 0.2244 - accuracy: 0.9232 - val_loss: 0.7414 - val_accuracy: 0.8183\n",
            "Epoch 42/50\n",
            "3794/3794 [==============================] - 33s 9ms/step - loss: 0.2224 - accuracy: 0.9236 - val_loss: 0.7442 - val_accuracy: 0.8178\n",
            "Epoch 43/50\n",
            "3794/3794 [==============================] - 33s 9ms/step - loss: 0.2249 - accuracy: 0.9232 - val_loss: 0.7597 - val_accuracy: 0.8185\n",
            "Epoch 44/50\n",
            "3794/3794 [==============================] - 33s 9ms/step - loss: 0.2174 - accuracy: 0.9252 - val_loss: 0.7621 - val_accuracy: 0.8167\n",
            "Epoch 45/50\n",
            "3794/3794 [==============================] - 37s 10ms/step - loss: 0.2143 - accuracy: 0.9265 - val_loss: 0.7671 - val_accuracy: 0.8183\n",
            "Epoch 46/50\n",
            "3794/3794 [==============================] - 37s 10ms/step - loss: 0.2156 - accuracy: 0.9263 - val_loss: 0.7781 - val_accuracy: 0.8183\n",
            "Epoch 47/50\n",
            "3794/3794 [==============================] - 37s 10ms/step - loss: 0.2112 - accuracy: 0.9272 - val_loss: 0.7681 - val_accuracy: 0.8172\n",
            "Epoch 48/50\n",
            "3794/3794 [==============================] - 37s 10ms/step - loss: 0.2083 - accuracy: 0.9283 - val_loss: 0.7752 - val_accuracy: 0.8174\n",
            "Epoch 49/50\n",
            "3794/3794 [==============================] - 37s 10ms/step - loss: 0.2052 - accuracy: 0.9296 - val_loss: 0.7834 - val_accuracy: 0.8175\n",
            "Epoch 50/50\n",
            "3794/3794 [==============================] - 37s 10ms/step - loss: 0.2040 - accuracy: 0.9295 - val_loss: 0.7871 - val_accuracy: 0.8159\n",
            "dict_keys(['loss', 'accuracy', 'val_loss', 'val_accuracy'])\n"
          ]
        },
        {
          "output_type": "display_data",
          "data": {
            "text/plain": [
              "<Figure size 432x288 with 1 Axes>"
            ],
            "image/png": "[encoded data removed]"
          },
          "metadata": {
            "needs_background": "light"
          }
        },
        {
          "output_type": "display_data",
          "data": {
            "text/plain": [
              "<Figure size 432x288 with 1 Axes>"
            ],
            "image/png": "[encoded data removed]"
          },
          "metadata": {
            "needs_background": "light"
          }
        }
      ],
      "source": [
        "import json\n",
        "import tensorflow.keras as keras\n",
        "from keras.applications.densenet import layers\n",
        "import numpy as np\n",
        "import matplotlib.pyplot as plt\n",
        "\n",
        "mapping_path=\"/content/drive/MyDrive/Project/mapping.json\"\n",
        "sequence_length=64\n",
        "single_file_dataset = \"/content/drive/MyDrive/Project/file_dataset\" \n",
        "LOSS = \"sparse_categorical_crossentropy\"    # error function for training\n",
        "LEARNING_RATE = 0.001\n",
        "EPOCHS = 50 # three seperate values # 2 10 20\n",
        "NUM_UNITS = [256]   #number of units of neuron in internal layer of network this is one layer with 256 neurons # three seperate values # 64 128\n",
        "BATCH_SIZE = 64     # amount of samples it will see before running back propogation  # 16 32 \n",
        "save_model_path = \"model4.h5\"   # .h5 for saving keras model\n",
        "\n",
        "\n",
        "def convert_songs_to_int(songs):\n",
        "    # covert song in symbolic representaition to integer into sequences so that we can train our LSTM model\n",
        "    # takes input as songs which is string of integer\n",
        "    int_songs = []\n",
        "    # store all dataset and mapping\n",
        "    # load the mappings\n",
        "    with open(mapping_path, \"r\") as fp:\n",
        "        mappings = json.load(fp)\n",
        "        # dictionary which contain all our symbols\n",
        "\n",
        "    # cast songs string to list\n",
        "    songs = songs.split()\n",
        "    # splits a string at empty spaces and create items in list\n",
        "\n",
        "    # map song to int\n",
        "    for symbol in songs:\n",
        "        int_songs.append(mappings[symbol])\n",
        "    #print(int_songs)\n",
        "    return int_songs\n",
        "\n",
        "def load(file_path):\n",
        "    with open(file_path, \"r\") as fp:\n",
        "        song = fp.read()\n",
        "    return song\n",
        "\n",
        "def generating_training_sequences(sequence_length):\n",
        "    # load the songs and map to int\n",
        "    songs = load(single_file_dataset)\n",
        "    #print(songs)\n",
        "    int_songs = convert_songs_to_int(songs)\n",
        "    # genearte the training sequence\n",
        "    num_sequences=len(int_songs)-sequence_length\n",
        "    input=[]\n",
        "    target=[]\n",
        "    for i in range(num_sequences):\n",
        "        input.append(int_songs[i:i+sequence_length])\n",
        "        target.append(int_songs[i+sequence_length])\n",
        "    # one-hot encode the sequences\n",
        "    # inputs: (# of sequences ,sequence length,vocabulary length)\n",
        "    # easiest way to work with categorical data for neural network\n",
        "    vocabulary_size=len(set(int_songs))\n",
        "    inputs = keras.utils.to_categorical(input, num_classes=vocabulary_size)\n",
        "    # input will now be a 3D array\n",
        "    targets=np.array(target)\n",
        "    return inputs,targets\n",
        "\n",
        "\n",
        "def output_units_(mapping_path):\n",
        "    with open(mapping_path, \"r\") as fp:\n",
        "        mappings = json.load(fp)\n",
        "    return len(mappings.keys())\n",
        "\n",
        "\n",
        "def build_model(output_units, num_units, loss, learning_rate):\n",
        "    # create model architecture\n",
        "    input = keras.layers.Input(shape=(None, output_units))\n",
        "    # shape is of the data which we will input in our model\n",
        "    # None enables us to have as many timestamps as we want ,we than can generate however melodies we want\n",
        "    # output_units tells us how many elements we have for each timestamp i.e our vocabulary size\n",
        "    x = keras.layers.LSTM(num_units[0])(input)\n",
        "    # add another node to graph\n",
        "\n",
        "    x = keras.layers.Dropout(0.2)(x)\n",
        "    # to avoid overfitting we use dropout layer\n",
        "    # here the rate refers to amount of input data to be dropped\n",
        "    output = keras.layers.Dense(output_units, activation=\"softmax\")(x)\n",
        "\n",
        "    model = keras.Model(input, output)\n",
        "\n",
        "    # compile model\n",
        "\n",
        "    model.compile(loss=loss, optimizer=keras.optimizers.Adam(lr=learning_rate), metrics=[\"accuracy\"])\n",
        "    model.summary()\n",
        "    # print some information about all the model\n",
        "    return model\n",
        "\n",
        "\n",
        "def train(output_units=output_units_(mapping_path), num_units=NUM_UNITS, loss=LOSS, learning_rate=LEARNING_RATE):\n",
        "    # it will do all the functions that will train our dataset\n",
        "    # generate training sequences\n",
        "    # it is already created in preprocess.py\n",
        "\n",
        "    input, target = generating_training_sequences(sequence_length)\n",
        "    # build the network\n",
        "\n",
        "    model = build_model(output_units, num_units, loss, learning_rate)\n",
        "    # output units i.e how many neurons are there in output layer\n",
        "    history=model.fit(input, target,validation_split=0.33, epochs=EPOCHS, batch_size=BATCH_SIZE)\n",
        "    print(history.history.keys())\n",
        "    # summarize history for accuracy\n",
        "    plt.plot(history.history['accuracy'])\n",
        "    plt.plot(history.history['val_accuracy'])\n",
        "    plt.title('model accuracy')\n",
        "    plt.ylabel('accuracy')\n",
        "    plt.xlabel('epoch')\n",
        "    plt.legend(['train', 'test'], loc='upper left')\n",
        "    plt.show()\n",
        "    plt.plot(history.history['loss'])\n",
        "    plt.plot(history.history['val_loss'])\n",
        "    plt.title('model loss')\n",
        "    plt.ylabel('loss')\n",
        "    plt.xlabel('epoch')\n",
        "    plt.legend(['train', 'test'], loc='upper left')\n",
        "    plt.show()\n",
        "    # save the model for future uses\n",
        "    model.save(save_model_path)\n",
        "\n",
        "train()"
      ]
    },
    {
      "cell_type": "code",
      "source": [
        ""
      ],
      "metadata": {
        "id": "2AtjfIz_X9lR"
      },
      "execution_count": null,
      "outputs": []
    }
  ]
}